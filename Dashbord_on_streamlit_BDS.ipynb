{
  "nbformat": 4,
  "nbformat_minor": 0,
  "metadata": {
    "colab": {
      "provenance": [],
      "authorship_tag": "ABX9TyPs2l17MYlDKjJSdNx6I1gt",
      "include_colab_link": true
    },
    "kernelspec": {
      "name": "python3",
      "display_name": "Python 3"
    },
    "language_info": {
      "name": "python"
    }
  },
  "cells": [
    {
      "cell_type": "markdown",
      "metadata": {
        "id": "view-in-github",
        "colab_type": "text"
      },
      "source": [
        "<a href=\"https://colab.research.google.com/github/Prima-7272/BDS/blob/main/Dashbord_on_streamlit_BDS.ipynb\" target=\"_parent\"><img src=\"https://colab.research.google.com/assets/colab-badge.svg\" alt=\"Open In Colab\"/></a>"
      ]
    },
    {
      "cell_type": "markdown",
      "source": [],
      "metadata": {
        "id": "ZksXDMvQA_xP"
      }
    },
    {
      "cell_type": "code",
      "source": [
        "import streamlit as st\n",
        "import pandas as pd\n",
        "import seaborn as sns\n",
        "import matplotlib.pyplot as plt\n",
        "import plotly.express as px\n",
        "from PIL import Image\n",
        "\n",
        "# Load the dataset\n",
        "@st.cache_data\n",
        "def load_data():\n",
        "    data = pd.read_csv('Assignment-2/micro_world_139countries.csv', encoding='ISO-8859-1')\n",
        "    return data\n",
        "\n",
        "data = load_data()\n",
        "\n",
        "# Title and description of the dashboard\n",
        "\n",
        "st.title(\"🌍 Digital Financial Behaviors Dashboard\")\n",
        "st.markdown(\"\"\"\n",
        "    This interactive dashboard allows you to explore key insights regarding digital payment adoption, gender disparities, regional financial behaviors,\n",
        "    and socioeconomic impacts using data from 139 countries. Use the filters on the sidebar to interact with the data and understand the various factors influencing digital finance adoption.\n",
        "\"\"\")\n",
        "\n",
        "# Sidebar for user input\n",
        "st.sidebar.header(\"🔍 User Input Filters\")\n",
        "\n",
        "\n",
        "# Filters\n",
        "region = st.sidebar.multiselect(\"Select Region\", options=data['regionwb'].unique(), default=data['regionwb'].unique())\n",
        "gender = st.sidebar.radio(\"Select Gender\", options=[\"All\", \"Female\", \"Male\"], index=0)\n",
        "income_level = st.sidebar.multiselect(\"Select Income Level\", options=sorted(data['inc_q'].dropna().unique()), default=data['inc_q'].dropna().unique())\n",
        "show_data = st.sidebar.checkbox(\"Show Raw Data\", False)\n",
        "\n",
        "# Filter data based on user input\n",
        "filtered_data = data[(data['regionwb'].isin(region)) & (data['inc_q'].isin(income_level))]\n",
        "if gender == \"Female\":\n",
        "    filtered_data = filtered_data[filtered_data['female'] == 1]\n",
        "elif gender == \"Male\":\n",
        "    filtered_data = filtered_data[filtered_data['female'] == 0]\n",
        "\n",
        "# Show raw data based on checkbox\n",
        "if show_data:\n",
        "    st.subheader(\"Raw Data\")\n",
        "    st.write(filtered_data)\n",
        "\n",
        "# Create columns for better layout\n",
        "col1, col2 = st.columns(2)\n",
        "\n",
        "# Key Insights Section\n",
        "st.header(\"📊 Key Insights\")\n",
        "\n",
        "# 1. Digital Payment Usage by Gender\n",
        "with col1:\n",
        "    st.subheader(\"Digital Payment Usage by Gender\")\n",
        "    gender_payment = filtered_data.groupby('female')['anydigpayment'].mean().reset_index()\n",
        "    gender_payment['Gender'] = gender_payment['female'].apply(lambda x: 'Female' if x == 1 else 'Male')\n",
        "\n",
        "    fig = px.bar(gender_payment, x='Gender', y='anydigpayment', color='Gender',\n",
        "                 color_discrete_sequence=px.colors.qualitative.Vivid,\n",
        "                 title=\"Digital Payment Usage by Gender\")\n",
        "    fig.update_layout(yaxis_title=\"Percentage Using Digital Payments\", xaxis_title=\"Gender\")\n",
        "    st.plotly_chart(fig, use_container_width=True)\n",
        "\n",
        "# 2. Digital Payment Usage by Region\n",
        "with col2:\n",
        "    st.subheader(\"Digital Payment Usage by Region\")\n",
        "    region_payment_use = filtered_data.groupby('regionwb')['anydigpayment'].mean().sort_values(ascending=False).reset_index()\n",
        "\n",
        "    fig = px.bar(region_payment_use, x='regionwb', y='anydigpayment', color='regionwb',\n",
        "                 color_discrete_sequence=px.colors.qualitative.Pastel,\n",
        "                 title=\"Digital Payment Usage by Region\")\n",
        "    fig.update_layout(yaxis_title=\"Percentage Using Digital Payments\", xaxis_title=\"Region\")\n",
        "    fig.update_xaxes(tickangle=45)\n",
        "    st.plotly_chart(fig, use_container_width=True)\n",
        "\n",
        "# 3. Digital Payment Usage by Income Level\n",
        "st.subheader(\"Digital Payment Usage by Income Level\")\n",
        "income_payment_use = filtered_data.groupby('inc_q')['anydigpayment'].mean().sort_values(ascending=False).reset_index()\n",
        "\n",
        "fig = px.bar(income_payment_use, x='inc_q', y='anydigpayment', color='inc_q',\n",
        "             color_discrete_sequence=px.colors.qualitative.Set3,\n",
        "             title=\"Digital Payment Usage by Income Level\")\n",
        "fig.update_layout(yaxis_title=\"Percentage Using Digital Payments\", xaxis_title=\"Income Level (Quantile)\")\n",
        "st.plotly_chart(fig, use_container_width=True)\n",
        "\n",
        "\n",
        "# Conclusion and Footer\n",
        "st.markdown(\"\"\"\n",
        "    ### Conclusion\n",
        "    Use the filters to explore the data and identify the disparities in digital payment usage based on gender, region, income level, mobile ownership, and education level.\n",
        "    The insights provided can help identify target areas for improving financial inclusion and promoting digital finance.\n",
        "\n",
        "    **Developed by:** Sahana Irin Prima\n",
        "    **Contact:** [LinkedIn](https://www.linkedin.com) | [Thanks)\n",
        "\"\"\")\n"
      ],
      "metadata": {
        "id": "nVrzBBYQBCfX"
      },
      "execution_count": null,
      "outputs": []
    }
  ]
}