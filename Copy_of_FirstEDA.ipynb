{
  "nbformat": 4,
  "nbformat_minor": 0,
  "metadata": {
    "colab": {
      "provenance": [],
      "include_colab_link": true
    },
    "kernelspec": {
      "name": "python3",
      "display_name": "Python 3"
    },
    "language_info": {
      "name": "python"
    }
  },
  "cells": [
    {
      "cell_type": "markdown",
      "metadata": {
        "id": "view-in-github",
        "colab_type": "text"
      },
      "source": [
        "<a href=\"https://colab.research.google.com/github/Prima-7272/iPhone15promax/blob/main/Copy_of_FirstEDA.ipynb\" target=\"_parent\"><img src=\"https://colab.research.google.com/assets/colab-badge.svg\" alt=\"Open In Colab\"/></a>"
      ]
    },
    {
      "cell_type": "markdown",
      "source": [
        "# Assignment 1: Exploratory Data Analysis (EDA) and Visualization\n"
      ],
      "metadata": {
        "id": "IgJrQdFNq8nW"
      }
    },
    {
      "cell_type": "markdown",
      "source": [
        "## FINDEX (Global Financial Index Microdata) and it's business context\n",
        "\n",
        "The Global Findex database is the most comprehensive dataset on adult financial behaviors worldwide, capturing insights into how individuals save, borrow, make payments, and manage financial risks. Initiated by the World Bank in 2011, the dataset is based on nationally representative surveys of over 150,000 adults across more than 140 economies. The 2021 edition provides updated indicators on the use of both formal and informal financial services.\n",
        "\n",
        "For this analysis, we will conduct an Exploratory Data Analysis (EDA) to uncover key patterns and trends in the financial behaviors of individuals globally. As this analysis is undertaken by a group of finance students with a strong interest in banking and personal finance, our focus will be on examining how different demographics access and use financial services across various economies. The insights drawn will help highlight potential areas of financial inclusion and opportunities for improving financial services globally.\n",
        "\n",
        "In this assignment I want to research the impact of Social Welfare Programs on economic behavior. Social welfare programs, including social transfers, pensions, and remittances, play a crucial role in supporting vulnerable populations and enhancing economic stability. These programs are designed to reduce poverty, improve living standards, and stimulate economic activity by providing financial resources directly to individuals or households. Understanding the impact of these programs on the economic behavior of recipients is essential for governments and NGOs to optimize resource allocation and program design.\n",
        "\n",
        "Research question: **What is the impact of receiving social transfers, pensions, or remittances on the economic behavior of individuals?**\n"
      ],
      "metadata": {
        "id": "qKgRYOzDsfA7"
      }
    },
    {
      "cell_type": "markdown",
      "source": [
        "**Business Problem**\n",
        "Governments and NGOs need to optimize the distribution of social welfare resources to maximize their impact on economic stability and growth. By understanding how these resources affect recipients' economic behaviors—such as spending patterns, savings rates, and investment in education or healthcare—policymakers can design more effective welfare programs that not only alleviate immediate needs but also promote long-term economic development."
      ],
      "metadata": {
        "id": "FVxWxoT_hoIX"
      }
    },
    {
      "cell_type": "markdown",
      "source": [],
      "metadata": {
        "id": "ig4GbJGjvZrJ"
      }
    },
    {
      "cell_type": "markdown",
      "source": [
        "## Data Cleaning and Manipulation"
      ],
      "metadata": {
        "id": "lHVrSBEP16wo"
      }
    },
    {
      "cell_type": "code",
      "source": [
        "import pandas as pd\n",
        "import numpy as np\n",
        "import matplotlib.pyplot as plt\n",
        "import seaborn as sns\n",
        "\n",
        "\n",
        "# Initially, the data couldn’t be read with UTF-8 due to special characters. Using ChatGPT we found that latin-1 supports these characters, allowing for proper file decoding.\n",
        "# data = pd.read_csv('https://github.com/aaubs/ds-master/raw/main/data/assignments_datasets/FINDEX/WLD_2021_FINDEX_v03_M_csv.zip')"
      ],
      "metadata": {
        "id": "X6EDUnov9rnN"
      },
      "execution_count": 2,
      "outputs": []
    },
    {
      "source": [
        "# Reading the data using the raw URL on github\n",
        "data = pd.read_csv('https://github.com/aaubs/ds-master/raw/main/data/assignments_datasets/FINDEX/WLD_2021_FINDEX_v03_M_csv.zip', encoding='latin-1')"
      ],
      "cell_type": "code",
      "metadata": {
        "id": "yMUNWLY-6v1i"
      },
      "execution_count": 3,
      "outputs": []
    },
    {
      "cell_type": "markdown",
      "source": [
        "### Initial Data Structure Overview: Head, Info, Shape, Index, and Column Names"
      ],
      "metadata": {
        "id": "aaFSnGWwVOwe"
      }
    },
    {
      "cell_type": "code",
      "source": [
        "data.head()"
      ],
      "metadata": {
        "colab": {
          "base_uri": "https://localhost:8080/",
          "height": 342
        },
        "id": "9G5sCwa3V9wJ",
        "outputId": "0b6eb74d-8b08-4100-f144-271e13f04b06"
      },
      "execution_count": 4,
      "outputs": [
        {
          "output_type": "execute_result",
          "data": {
            "text/plain": [
              "       economy economycode    regionwb   pop_adult  wpid_random       wgt  \\\n",
              "0  Afghanistan         AFG  South Asia  22647496.0    144274031  0.716416   \n",
              "1  Afghanistan         AFG  South Asia  22647496.0    180724554  0.497408   \n",
              "2  Afghanistan         AFG  South Asia  22647496.0    130686682  0.650431   \n",
              "3  Afghanistan         AFG  South Asia  22647496.0    142646649  0.991862   \n",
              "4  Afghanistan         AFG  South Asia  22647496.0    199055310  0.554940   \n",
              "\n",
              "   female   age  educ  inc_q  ...  receive_transfers  receive_pension  \\\n",
              "0       2  43.0     2      4  ...                  4                4   \n",
              "1       2  55.0     1      3  ...                  4                4   \n",
              "2       1  15.0     1      2  ...                  4                4   \n",
              "3       2  23.0     1      4  ...                  4                4   \n",
              "4       1  46.0     1      1  ...                  4                4   \n",
              "\n",
              "   receive_agriculture  pay_utilities  remittances  mobileowner  \\\n",
              "0                  4.0              1          5.0            1   \n",
              "1                  2.0              4          5.0            1   \n",
              "2                  4.0              4          3.0            2   \n",
              "3                  2.0              4          5.0            1   \n",
              "4                  4.0              4          5.0            2   \n",
              "\n",
              "   internetaccess  anydigpayment  merchantpay_dig  year  \n",
              "0               2              1              0.0  2021  \n",
              "1               2              0              0.0  2021  \n",
              "2               2              0              0.0  2021  \n",
              "3               2              0              0.0  2021  \n",
              "4               2              0              0.0  2021  \n",
              "\n",
              "[5 rows x 128 columns]"
            ],
            "text/html": [
              "\n",
              "  <div id=\"df-0cdf1a3a-4ef4-42ed-903d-f46ba0e8c812\" class=\"colab-df-container\">\n",
              "    <div>\n",
              "<style scoped>\n",
              "    .dataframe tbody tr th:only-of-type {\n",
              "        vertical-align: middle;\n",
              "    }\n",
              "\n",
              "    .dataframe tbody tr th {\n",
              "        vertical-align: top;\n",
              "    }\n",
              "\n",
              "    .dataframe thead th {\n",
              "        text-align: right;\n",
              "    }\n",
              "</style>\n",
              "<table border=\"1\" class=\"dataframe\">\n",
              "  <thead>\n",
              "    <tr style=\"text-align: right;\">\n",
              "      <th></th>\n",
              "      <th>economy</th>\n",
              "      <th>economycode</th>\n",
              "      <th>regionwb</th>\n",
              "      <th>pop_adult</th>\n",
              "      <th>wpid_random</th>\n",
              "      <th>wgt</th>\n",
              "      <th>female</th>\n",
              "      <th>age</th>\n",
              "      <th>educ</th>\n",
              "      <th>inc_q</th>\n",
              "      <th>...</th>\n",
              "      <th>receive_transfers</th>\n",
              "      <th>receive_pension</th>\n",
              "      <th>receive_agriculture</th>\n",
              "      <th>pay_utilities</th>\n",
              "      <th>remittances</th>\n",
              "      <th>mobileowner</th>\n",
              "      <th>internetaccess</th>\n",
              "      <th>anydigpayment</th>\n",
              "      <th>merchantpay_dig</th>\n",
              "      <th>year</th>\n",
              "    </tr>\n",
              "  </thead>\n",
              "  <tbody>\n",
              "    <tr>\n",
              "      <th>0</th>\n",
              "      <td>Afghanistan</td>\n",
              "      <td>AFG</td>\n",
              "      <td>South Asia</td>\n",
              "      <td>22647496.0</td>\n",
              "      <td>144274031</td>\n",
              "      <td>0.716416</td>\n",
              "      <td>2</td>\n",
              "      <td>43.0</td>\n",
              "      <td>2</td>\n",
              "      <td>4</td>\n",
              "      <td>...</td>\n",
              "      <td>4</td>\n",
              "      <td>4</td>\n",
              "      <td>4.0</td>\n",
              "      <td>1</td>\n",
              "      <td>5.0</td>\n",
              "      <td>1</td>\n",
              "      <td>2</td>\n",
              "      <td>1</td>\n",
              "      <td>0.0</td>\n",
              "      <td>2021</td>\n",
              "    </tr>\n",
              "    <tr>\n",
              "      <th>1</th>\n",
              "      <td>Afghanistan</td>\n",
              "      <td>AFG</td>\n",
              "      <td>South Asia</td>\n",
              "      <td>22647496.0</td>\n",
              "      <td>180724554</td>\n",
              "      <td>0.497408</td>\n",
              "      <td>2</td>\n",
              "      <td>55.0</td>\n",
              "      <td>1</td>\n",
              "      <td>3</td>\n",
              "      <td>...</td>\n",
              "      <td>4</td>\n",
              "      <td>4</td>\n",
              "      <td>2.0</td>\n",
              "      <td>4</td>\n",
              "      <td>5.0</td>\n",
              "      <td>1</td>\n",
              "      <td>2</td>\n",
              "      <td>0</td>\n",
              "      <td>0.0</td>\n",
              "      <td>2021</td>\n",
              "    </tr>\n",
              "    <tr>\n",
              "      <th>2</th>\n",
              "      <td>Afghanistan</td>\n",
              "      <td>AFG</td>\n",
              "      <td>South Asia</td>\n",
              "      <td>22647496.0</td>\n",
              "      <td>130686682</td>\n",
              "      <td>0.650431</td>\n",
              "      <td>1</td>\n",
              "      <td>15.0</td>\n",
              "      <td>1</td>\n",
              "      <td>2</td>\n",
              "      <td>...</td>\n",
              "      <td>4</td>\n",
              "      <td>4</td>\n",
              "      <td>4.0</td>\n",
              "      <td>4</td>\n",
              "      <td>3.0</td>\n",
              "      <td>2</td>\n",
              "      <td>2</td>\n",
              "      <td>0</td>\n",
              "      <td>0.0</td>\n",
              "      <td>2021</td>\n",
              "    </tr>\n",
              "    <tr>\n",
              "      <th>3</th>\n",
              "      <td>Afghanistan</td>\n",
              "      <td>AFG</td>\n",
              "      <td>South Asia</td>\n",
              "      <td>22647496.0</td>\n",
              "      <td>142646649</td>\n",
              "      <td>0.991862</td>\n",
              "      <td>2</td>\n",
              "      <td>23.0</td>\n",
              "      <td>1</td>\n",
              "      <td>4</td>\n",
              "      <td>...</td>\n",
              "      <td>4</td>\n",
              "      <td>4</td>\n",
              "      <td>2.0</td>\n",
              "      <td>4</td>\n",
              "      <td>5.0</td>\n",
              "      <td>1</td>\n",
              "      <td>2</td>\n",
              "      <td>0</td>\n",
              "      <td>0.0</td>\n",
              "      <td>2021</td>\n",
              "    </tr>\n",
              "    <tr>\n",
              "      <th>4</th>\n",
              "      <td>Afghanistan</td>\n",
              "      <td>AFG</td>\n",
              "      <td>South Asia</td>\n",
              "      <td>22647496.0</td>\n",
              "      <td>199055310</td>\n",
              "      <td>0.554940</td>\n",
              "      <td>1</td>\n",
              "      <td>46.0</td>\n",
              "      <td>1</td>\n",
              "      <td>1</td>\n",
              "      <td>...</td>\n",
              "      <td>4</td>\n",
              "      <td>4</td>\n",
              "      <td>4.0</td>\n",
              "      <td>4</td>\n",
              "      <td>5.0</td>\n",
              "      <td>2</td>\n",
              "      <td>2</td>\n",
              "      <td>0</td>\n",
              "      <td>0.0</td>\n",
              "      <td>2021</td>\n",
              "    </tr>\n",
              "  </tbody>\n",
              "</table>\n",
              "<p>5 rows × 128 columns</p>\n",
              "</div>\n",
              "    <div class=\"colab-df-buttons\">\n",
              "\n",
              "  <div class=\"colab-df-container\">\n",
              "    <button class=\"colab-df-convert\" onclick=\"convertToInteractive('df-0cdf1a3a-4ef4-42ed-903d-f46ba0e8c812')\"\n",
              "            title=\"Convert this dataframe to an interactive table.\"\n",
              "            style=\"display:none;\">\n",
              "\n",
              "  <svg xmlns=\"http://www.w3.org/2000/svg\" height=\"24px\" viewBox=\"0 -960 960 960\">\n",
              "    <path d=\"M120-120v-720h720v720H120Zm60-500h600v-160H180v160Zm220 220h160v-160H400v160Zm0 220h160v-160H400v160ZM180-400h160v-160H180v160Zm440 0h160v-160H620v160ZM180-180h160v-160H180v160Zm440 0h160v-160H620v160Z\"/>\n",
              "  </svg>\n",
              "    </button>\n",
              "\n",
              "  <style>\n",
              "    .colab-df-container {\n",
              "      display:flex;\n",
              "      gap: 12px;\n",
              "    }\n",
              "\n",
              "    .colab-df-convert {\n",
              "      background-color: #E8F0FE;\n",
              "      border: none;\n",
              "      border-radius: 50%;\n",
              "      cursor: pointer;\n",
              "      display: none;\n",
              "      fill: #1967D2;\n",
              "      height: 32px;\n",
              "      padding: 0 0 0 0;\n",
              "      width: 32px;\n",
              "    }\n",
              "\n",
              "    .colab-df-convert:hover {\n",
              "      background-color: #E2EBFA;\n",
              "      box-shadow: 0px 1px 2px rgba(60, 64, 67, 0.3), 0px 1px 3px 1px rgba(60, 64, 67, 0.15);\n",
              "      fill: #174EA6;\n",
              "    }\n",
              "\n",
              "    .colab-df-buttons div {\n",
              "      margin-bottom: 4px;\n",
              "    }\n",
              "\n",
              "    [theme=dark] .colab-df-convert {\n",
              "      background-color: #3B4455;\n",
              "      fill: #D2E3FC;\n",
              "    }\n",
              "\n",
              "    [theme=dark] .colab-df-convert:hover {\n",
              "      background-color: #434B5C;\n",
              "      box-shadow: 0px 1px 3px 1px rgba(0, 0, 0, 0.15);\n",
              "      filter: drop-shadow(0px 1px 2px rgba(0, 0, 0, 0.3));\n",
              "      fill: #FFFFFF;\n",
              "    }\n",
              "  </style>\n",
              "\n",
              "    <script>\n",
              "      const buttonEl =\n",
              "        document.querySelector('#df-0cdf1a3a-4ef4-42ed-903d-f46ba0e8c812 button.colab-df-convert');\n",
              "      buttonEl.style.display =\n",
              "        google.colab.kernel.accessAllowed ? 'block' : 'none';\n",
              "\n",
              "      async function convertToInteractive(key) {\n",
              "        const element = document.querySelector('#df-0cdf1a3a-4ef4-42ed-903d-f46ba0e8c812');\n",
              "        const dataTable =\n",
              "          await google.colab.kernel.invokeFunction('convertToInteractive',\n",
              "                                                    [key], {});\n",
              "        if (!dataTable) return;\n",
              "\n",
              "        const docLinkHtml = 'Like what you see? Visit the ' +\n",
              "          '<a target=\"_blank\" href=https://colab.research.google.com/notebooks/data_table.ipynb>data table notebook</a>'\n",
              "          + ' to learn more about interactive tables.';\n",
              "        element.innerHTML = '';\n",
              "        dataTable['output_type'] = 'display_data';\n",
              "        await google.colab.output.renderOutput(dataTable, element);\n",
              "        const docLink = document.createElement('div');\n",
              "        docLink.innerHTML = docLinkHtml;\n",
              "        element.appendChild(docLink);\n",
              "      }\n",
              "    </script>\n",
              "  </div>\n",
              "\n",
              "\n",
              "<div id=\"df-80e3c7a9-92af-456e-89e7-2aabc2767a3a\">\n",
              "  <button class=\"colab-df-quickchart\" onclick=\"quickchart('df-80e3c7a9-92af-456e-89e7-2aabc2767a3a')\"\n",
              "            title=\"Suggest charts\"\n",
              "            style=\"display:none;\">\n",
              "\n",
              "<svg xmlns=\"http://www.w3.org/2000/svg\" height=\"24px\"viewBox=\"0 0 24 24\"\n",
              "     width=\"24px\">\n",
              "    <g>\n",
              "        <path d=\"M19 3H5c-1.1 0-2 .9-2 2v14c0 1.1.9 2 2 2h14c1.1 0 2-.9 2-2V5c0-1.1-.9-2-2-2zM9 17H7v-7h2v7zm4 0h-2V7h2v10zm4 0h-2v-4h2v4z\"/>\n",
              "    </g>\n",
              "</svg>\n",
              "  </button>\n",
              "\n",
              "<style>\n",
              "  .colab-df-quickchart {\n",
              "      --bg-color: #E8F0FE;\n",
              "      --fill-color: #1967D2;\n",
              "      --hover-bg-color: #E2EBFA;\n",
              "      --hover-fill-color: #174EA6;\n",
              "      --disabled-fill-color: #AAA;\n",
              "      --disabled-bg-color: #DDD;\n",
              "  }\n",
              "\n",
              "  [theme=dark] .colab-df-quickchart {\n",
              "      --bg-color: #3B4455;\n",
              "      --fill-color: #D2E3FC;\n",
              "      --hover-bg-color: #434B5C;\n",
              "      --hover-fill-color: #FFFFFF;\n",
              "      --disabled-bg-color: #3B4455;\n",
              "      --disabled-fill-color: #666;\n",
              "  }\n",
              "\n",
              "  .colab-df-quickchart {\n",
              "    background-color: var(--bg-color);\n",
              "    border: none;\n",
              "    border-radius: 50%;\n",
              "    cursor: pointer;\n",
              "    display: none;\n",
              "    fill: var(--fill-color);\n",
              "    height: 32px;\n",
              "    padding: 0;\n",
              "    width: 32px;\n",
              "  }\n",
              "\n",
              "  .colab-df-quickchart:hover {\n",
              "    background-color: var(--hover-bg-color);\n",
              "    box-shadow: 0 1px 2px rgba(60, 64, 67, 0.3), 0 1px 3px 1px rgba(60, 64, 67, 0.15);\n",
              "    fill: var(--button-hover-fill-color);\n",
              "  }\n",
              "\n",
              "  .colab-df-quickchart-complete:disabled,\n",
              "  .colab-df-quickchart-complete:disabled:hover {\n",
              "    background-color: var(--disabled-bg-color);\n",
              "    fill: var(--disabled-fill-color);\n",
              "    box-shadow: none;\n",
              "  }\n",
              "\n",
              "  .colab-df-spinner {\n",
              "    border: 2px solid var(--fill-color);\n",
              "    border-color: transparent;\n",
              "    border-bottom-color: var(--fill-color);\n",
              "    animation:\n",
              "      spin 1s steps(1) infinite;\n",
              "  }\n",
              "\n",
              "  @keyframes spin {\n",
              "    0% {\n",
              "      border-color: transparent;\n",
              "      border-bottom-color: var(--fill-color);\n",
              "      border-left-color: var(--fill-color);\n",
              "    }\n",
              "    20% {\n",
              "      border-color: transparent;\n",
              "      border-left-color: var(--fill-color);\n",
              "      border-top-color: var(--fill-color);\n",
              "    }\n",
              "    30% {\n",
              "      border-color: transparent;\n",
              "      border-left-color: var(--fill-color);\n",
              "      border-top-color: var(--fill-color);\n",
              "      border-right-color: var(--fill-color);\n",
              "    }\n",
              "    40% {\n",
              "      border-color: transparent;\n",
              "      border-right-color: var(--fill-color);\n",
              "      border-top-color: var(--fill-color);\n",
              "    }\n",
              "    60% {\n",
              "      border-color: transparent;\n",
              "      border-right-color: var(--fill-color);\n",
              "    }\n",
              "    80% {\n",
              "      border-color: transparent;\n",
              "      border-right-color: var(--fill-color);\n",
              "      border-bottom-color: var(--fill-color);\n",
              "    }\n",
              "    90% {\n",
              "      border-color: transparent;\n",
              "      border-bottom-color: var(--fill-color);\n",
              "    }\n",
              "  }\n",
              "</style>\n",
              "\n",
              "  <script>\n",
              "    async function quickchart(key) {\n",
              "      const quickchartButtonEl =\n",
              "        document.querySelector('#' + key + ' button');\n",
              "      quickchartButtonEl.disabled = true;  // To prevent multiple clicks.\n",
              "      quickchartButtonEl.classList.add('colab-df-spinner');\n",
              "      try {\n",
              "        const charts = await google.colab.kernel.invokeFunction(\n",
              "            'suggestCharts', [key], {});\n",
              "      } catch (error) {\n",
              "        console.error('Error during call to suggestCharts:', error);\n",
              "      }\n",
              "      quickchartButtonEl.classList.remove('colab-df-spinner');\n",
              "      quickchartButtonEl.classList.add('colab-df-quickchart-complete');\n",
              "    }\n",
              "    (() => {\n",
              "      let quickchartButtonEl =\n",
              "        document.querySelector('#df-80e3c7a9-92af-456e-89e7-2aabc2767a3a button');\n",
              "      quickchartButtonEl.style.display =\n",
              "        google.colab.kernel.accessAllowed ? 'block' : 'none';\n",
              "    })();\n",
              "  </script>\n",
              "</div>\n",
              "\n",
              "    </div>\n",
              "  </div>\n"
            ],
            "application/vnd.google.colaboratory.intrinsic+json": {
              "type": "dataframe",
              "variable_name": "data"
            }
          },
          "metadata": {},
          "execution_count": 4
        }
      ]
    },
    {
      "cell_type": "code",
      "source": [
        "data.info()"
      ],
      "metadata": {
        "colab": {
          "base_uri": "https://localhost:8080/"
        },
        "id": "SUq3FSHGWdgc",
        "outputId": "0ab4e9c7-11a1-4cbb-a5d2-35085ad0d33e"
      },
      "execution_count": 5,
      "outputs": [
        {
          "output_type": "stream",
          "name": "stdout",
          "text": [
            "<class 'pandas.core.frame.DataFrame'>\n",
            "RangeIndex: 143887 entries, 0 to 143886\n",
            "Columns: 128 entries, economy to year\n",
            "dtypes: float64(90), int64(35), object(3)\n",
            "memory usage: 140.5+ MB\n"
          ]
        }
      ]
    },
    {
      "cell_type": "code",
      "source": [
        "data.shape"
      ],
      "metadata": {
        "colab": {
          "base_uri": "https://localhost:8080/"
        },
        "id": "NTraSPro7L2T",
        "outputId": "7cad3bdb-4e05-4f1f-e8dd-5ba21382d172"
      },
      "execution_count": 6,
      "outputs": [
        {
          "output_type": "execute_result",
          "data": {
            "text/plain": [
              "(143887, 128)"
            ]
          },
          "metadata": {},
          "execution_count": 6
        }
      ]
    },
    {
      "cell_type": "code",
      "source": [
        "data.index"
      ],
      "metadata": {
        "colab": {
          "base_uri": "https://localhost:8080/"
        },
        "id": "MCnbZ2H1U7A5",
        "outputId": "37104a4a-43f8-4434-d65f-c48c716d8e76"
      },
      "execution_count": 7,
      "outputs": [
        {
          "output_type": "execute_result",
          "data": {
            "text/plain": [
              "RangeIndex(start=0, stop=143887, step=1)"
            ]
          },
          "metadata": {},
          "execution_count": 7
        }
      ]
    },
    {
      "cell_type": "code",
      "source": [
        "data.columns"
      ],
      "metadata": {
        "colab": {
          "base_uri": "https://localhost:8080/"
        },
        "id": "jZXg33mRU8wS",
        "outputId": "c4b29eed-4826-4529-d8e6-3aa1bb035afb"
      },
      "execution_count": 8,
      "outputs": [
        {
          "output_type": "execute_result",
          "data": {
            "text/plain": [
              "Index(['economy', 'economycode', 'regionwb', 'pop_adult', 'wpid_random', 'wgt',\n",
              "       'female', 'age', 'educ', 'inc_q',\n",
              "       ...\n",
              "       'receive_transfers', 'receive_pension', 'receive_agriculture',\n",
              "       'pay_utilities', 'remittances', 'mobileowner', 'internetaccess',\n",
              "       'anydigpayment', 'merchantpay_dig', 'year'],\n",
              "      dtype='object', length=128)"
            ]
          },
          "metadata": {},
          "execution_count": 8
        }
      ]
    },
    {
      "cell_type": "markdown",
      "source": [
        "### Checking for missing values"
      ],
      "metadata": {
        "id": "pfFP58zFWH2Y"
      }
    },
    {
      "cell_type": "code",
      "source": [
        "# Do to the size of the Dataset we filter columns with missing values greater than 0. We look further into all the\n",
        "# missing values with pd.set_option('display.max_rows', None) was used afterwards using pd.reset_option('display.max_rows')\n",
        "pd.reset_option('display.max_rows')\n",
        "missing_data = data.isnull().sum()\n",
        "missing_data[missing_data > 0]"
      ],
      "metadata": {
        "colab": {
          "base_uri": "https://localhost:8080/",
          "height": 458
        },
        "id": "4FCh1TGlWLTL",
        "outputId": "7bb0875c-8722-49a3-df58-83e8e8c982e8"
      },
      "execution_count": null,
      "outputs": [
        {
          "output_type": "execute_result",
          "data": {
            "text/plain": [
              "regionwb                 1000\n",
              "age                       467\n",
              "emp_in                   3502\n",
              "urbanicity_f2f          68243\n",
              "account_mob             61181\n",
              "                        ...  \n",
              "fin45_1                 33106\n",
              "fin45_1_China          140387\n",
              "receive_agriculture     29606\n",
              "remittances             29606\n",
              "merchantpay_dig         29606\n",
              "Length: 89, dtype: int64"
            ],
            "text/html": [
              "<div>\n",
              "<style scoped>\n",
              "    .dataframe tbody tr th:only-of-type {\n",
              "        vertical-align: middle;\n",
              "    }\n",
              "\n",
              "    .dataframe tbody tr th {\n",
              "        vertical-align: top;\n",
              "    }\n",
              "\n",
              "    .dataframe thead th {\n",
              "        text-align: right;\n",
              "    }\n",
              "</style>\n",
              "<table border=\"1\" class=\"dataframe\">\n",
              "  <thead>\n",
              "    <tr style=\"text-align: right;\">\n",
              "      <th></th>\n",
              "      <th>0</th>\n",
              "    </tr>\n",
              "  </thead>\n",
              "  <tbody>\n",
              "    <tr>\n",
              "      <th>regionwb</th>\n",
              "      <td>1000</td>\n",
              "    </tr>\n",
              "    <tr>\n",
              "      <th>age</th>\n",
              "      <td>467</td>\n",
              "    </tr>\n",
              "    <tr>\n",
              "      <th>emp_in</th>\n",
              "      <td>3502</td>\n",
              "    </tr>\n",
              "    <tr>\n",
              "      <th>urbanicity_f2f</th>\n",
              "      <td>68243</td>\n",
              "    </tr>\n",
              "    <tr>\n",
              "      <th>account_mob</th>\n",
              "      <td>61181</td>\n",
              "    </tr>\n",
              "    <tr>\n",
              "      <th>...</th>\n",
              "      <td>...</td>\n",
              "    </tr>\n",
              "    <tr>\n",
              "      <th>fin45_1</th>\n",
              "      <td>33106</td>\n",
              "    </tr>\n",
              "    <tr>\n",
              "      <th>fin45_1_China</th>\n",
              "      <td>140387</td>\n",
              "    </tr>\n",
              "    <tr>\n",
              "      <th>receive_agriculture</th>\n",
              "      <td>29606</td>\n",
              "    </tr>\n",
              "    <tr>\n",
              "      <th>remittances</th>\n",
              "      <td>29606</td>\n",
              "    </tr>\n",
              "    <tr>\n",
              "      <th>merchantpay_dig</th>\n",
              "      <td>29606</td>\n",
              "    </tr>\n",
              "  </tbody>\n",
              "</table>\n",
              "<p>89 rows × 1 columns</p>\n",
              "</div><br><label><b>dtype:</b> int64</label>"
            ]
          },
          "metadata": {},
          "execution_count": 63
        }
      ]
    },
    {
      "cell_type": "code",
      "source": [
        "# Filter rows where 'regionwb' is missing (NaN)\n",
        "missing_region = data[data['regionwb'].isnull()]\n",
        "\n",
        "# Print the first few rows where 'regionwb' is missing\n",
        "print(missing_region.head(10))"
      ],
      "metadata": {
        "colab": {
          "base_uri": "https://localhost:8080/"
        },
        "id": "2gXcQhbHGlnI",
        "outputId": "e7b4c459-2a80-4f45-91ff-6995b724198b"
      },
      "execution_count": null,
      "outputs": [
        {
          "output_type": "stream",
          "name": "stdout",
          "text": [
            "              economy economycode regionwb   pop_adult  wpid_random       wgt  \\\n",
            "123861  Taiwan, China         TWN      NaN  20584760.0    204980045  1.070940   \n",
            "123862  Taiwan, China         TWN      NaN  20584760.0    202975224  1.016513   \n",
            "123863  Taiwan, China         TWN      NaN  20584760.0    119288733  2.458148   \n",
            "123864  Taiwan, China         TWN      NaN  20584760.0    126952391  2.009794   \n",
            "123865  Taiwan, China         TWN      NaN  20584760.0    159279170  1.401549   \n",
            "123866  Taiwan, China         TWN      NaN  20584760.0    118940104  0.972358   \n",
            "123867  Taiwan, China         TWN      NaN  20584760.0    118675494  1.167064   \n",
            "123868  Taiwan, China         TWN      NaN  20584760.0    127658782  0.483968   \n",
            "123869  Taiwan, China         TWN      NaN  20584760.0    183534234  0.716444   \n",
            "123870  Taiwan, China         TWN      NaN  20584760.0    171255474  3.562657   \n",
            "\n",
            "        female   age  educ  inc_q  ...  receive_transfers  receive_pension  \\\n",
            "123861       1  54.0     2      5  ...                  4                4   \n",
            "123862       2  29.0     3      5  ...                  4                4   \n",
            "123863       2  56.0     1      5  ...                  1                4   \n",
            "123864       2  62.0     2      3  ...                  4                4   \n",
            "123865       1  38.0     2      2  ...                  1                4   \n",
            "123866       1  36.0     3      4  ...                  4                4   \n",
            "123867       2  19.0     2      5  ...                  1                4   \n",
            "123868       2  40.0     3      3  ...                  3                4   \n",
            "123869       1  18.0     2      2  ...                  1                4   \n",
            "123870       2  16.0     1      1  ...                  5                4   \n",
            "\n",
            "        receive_agriculture  pay_utilities  remittances  mobileowner  \\\n",
            "123861                  NaN              2          NaN            1   \n",
            "123862                  NaN              4          NaN            1   \n",
            "123863                  NaN              2          NaN            1   \n",
            "123864                  NaN              2          NaN            1   \n",
            "123865                  NaN              1          NaN            1   \n",
            "123866                  NaN              1          NaN            1   \n",
            "123867                  NaN              4          NaN            1   \n",
            "123868                  NaN              2          NaN            1   \n",
            "123869                  NaN              4          NaN            1   \n",
            "123870                  NaN              4          NaN            1   \n",
            "\n",
            "        internetaccess  anydigpayment  merchantpay_dig  year  \n",
            "123861               1              1              NaN  2021  \n",
            "123862               1              1              NaN  2021  \n",
            "123863               1              1              NaN  2021  \n",
            "123864               1              1              NaN  2021  \n",
            "123865               1              1              NaN  2021  \n",
            "123866               1              1              NaN  2021  \n",
            "123867               1              1              NaN  2021  \n",
            "123868               1              1              NaN  2021  \n",
            "123869               1              1              NaN  2021  \n",
            "123870               1              0              NaN  2021  \n",
            "\n",
            "[10 rows x 128 columns]\n"
          ]
        }
      ]
    },
    {
      "cell_type": "code",
      "source": [
        "# Filter rows where 'regionwb' is missing\n",
        "missing_region = data[data['regionwb'].isnull()]\n",
        "\n",
        "# Group by 'economy' and count the number of missing 'regionwb' for each country\n",
        "missing_by_country = missing_region.groupby('economy').size()\n",
        "\n",
        "# Print the results\n",
        "print(missing_by_country)"
      ],
      "metadata": {
        "id": "_ryGZoUOHbXb",
        "outputId": "fa4978b7-5d69-41b0-a911-0e2765c28506",
        "colab": {
          "base_uri": "https://localhost:8080/"
        }
      },
      "execution_count": null,
      "outputs": [
        {
          "output_type": "stream",
          "name": "stdout",
          "text": [
            "economy\n",
            "Taiwan, China    1000\n",
            "dtype: int64\n"
          ]
        }
      ]
    },
    {
      "cell_type": "markdown",
      "source": [
        "Its clear that there are significant missing values in the dataset. However, many of these missing values result from certain follow up questions not being asked to all participants, which accounts for the bulk of the missing data. Additionally, we notice some missing information regarding the age, region, and employment status of participants. Since the missing values in these key categories (age, region, and workforce status) is quite small compared to the dataset size, it has been decided to remove these rows as we don't want to simulate age or workforce status.\n",
        "\n",
        "Additionally, columns with a high percentage of missing data (up to 90%) were removed, as they generally represent niche or specific follow-up questions. This simplification streamlines the dataset without affecting its overall quality, as our focus is on a broader analysis rather than specific topics like how domestic remittances were received."
      ],
      "metadata": {
        "id": "FZ8xfbYkpPSt"
      }
    },
    {
      "cell_type": "code",
      "source": [
        "# Removing the rows with missing values in 'regionwb', 'age', and 'emp_in'\n",
        "data_cleaned = data.dropna(subset=['regionwb', 'age', 'emp_in']).copy()\n",
        "\n",
        "# Removing columns with more than 4000 missing values\n",
        "missing_threshold = 4000\n",
        "\n",
        "\n",
        "\n",
        "\n",
        "#_________________________________________________________________\n",
        "#cols_to_drop = data_cleaned.columns[data_cleaned.isnull().sum() > missing_threshold]\n",
        "\n",
        "# Dropping the columns\n",
        "#data_cleaned = data_cleaned.drop(columns=cols_to_drop)\n",
        "\n",
        "# Cleaned dataset info\n",
        "data_cleaned.info()"
      ],
      "metadata": {
        "colab": {
          "base_uri": "https://localhost:8080/"
        },
        "id": "rKd6nl2Xort3",
        "outputId": "7e52871f-9076-4464-c97f-a35f5aa9ef4e"
      },
      "execution_count": null,
      "outputs": [
        {
          "output_type": "stream",
          "name": "stdout",
          "text": [
            "<class 'pandas.core.frame.DataFrame'>\n",
            "Index: 138973 entries, 0 to 143886\n",
            "Columns: 128 entries, economy to year\n",
            "dtypes: float64(90), int64(35), object(3)\n",
            "memory usage: 136.8+ MB\n"
          ]
        }
      ]
    },
    {
      "cell_type": "markdown",
      "source": [
        "**This leaves us with a dataset of 138973 rows and 42 columns with zero missing values**.\n",
        "\n",
        "**The remaining columns signify the following information which we will be working with to explore the dataset further:**\n",
        "\n",
        "0. economy: The name of the country or economy.\n",
        "1. economycode: ISO 3-digit code representing each economy.\n",
        "2. regionwb: World Bank region classification (e.g., Sub-Saharan Africa, East\n",
        "    Asia, etc.).\n",
        "3.  pop_adult: The population of adults (aged 15+) in the economy.\n",
        "4.  wpid_random: A unique identifier for each respondent in the dataset.\n",
        "5.  wgt: Survey weight for each respondent, used to make the sample\n",
        "    representative of the population.\n",
        "6.  female: Gender of the respondent (1 if female, 2 if male).\n",
        "7.  age: Age of the respondent.\n",
        "8.  educ: Respondent’s education level form level 1 to 3\n",
        "9.  inc_q: Income quintile of the respondent’s household.\n",
        "10. emp_in: Employment status of the respondent.\n",
        "11. account: Whether the respondent has an account at a financial institution\n",
        "    or with a mobile money service provider.\n",
        "12. account_fin: Whether the respondent has an account at a formal financial\n",
        "    institution.\n",
        "13. fin2: Has a debit card\n",
        "14. fin14_1: Whether the respondent used mobile money.\n",
        "15. fin14a: Made bill payments online using the Internet\n",
        "16. fin14a1: Send money to a relative or friend online\n",
        "    using the Internet\n",
        "17. fin14b: Bought something online using the Internet\n",
        "18. fin16: Saved for old age\n",
        "19. fin17a: Saved using an account at a financial\n",
        "    institution\n",
        "20. fin20: Borrowed for medical purposes\n",
        "21. fin22a: Borrowed from a financial institution\n",
        "22. fin22b: Borrowed from family or friends\n",
        "23. fin24: Main source of emergency funds in 30 days\n",
        "24. fin30: Paid a utility bill\n",
        "25. fin32: Received wage payments\n",
        "26. fin37: Received a government transfer\n",
        "27. fin38: Received a government pension\n",
        "28. fin44a: Financially worried: old age\n",
        "29. fin44b: Financially worried: medical cost\n",
        "30. fin44c: Financially worried: bills\n",
        "31. fin44d: Financially worried: education\n",
        "32. saved: Saved money in the past 12 months.\n",
        "33. borrowed: Borrowed money in the past 12 months.\n",
        "34. receive_wages: Received a wage payment and method\n",
        "35. receive_transfers: Received government transfers or aid payments and method\n",
        "36. receive_pension: Received government pension payments. and method\n",
        "37. pay_utilities: Paid utility bills and method\n",
        "38. mobileowner: Whether the respondent owns a mobile phone.\n",
        "39. internetaccess: Whether the respondent has access to the internet.\n",
        "40. anydigpayment: Whether the respondent made any digital payment.\n",
        "41. year: The year of the data collection"
      ],
      "metadata": {
        "id": "5eH3uvFNmH76"
      }
    },
    {
      "cell_type": "code",
      "source": [
        "data_cleaned['economy'].unique()"
      ],
      "metadata": {
        "colab": {
          "base_uri": "https://localhost:8080/"
        },
        "id": "yfrigsoiBzSX",
        "outputId": "5668c6b9-d6a9-4e3c-fc66-eef7cfc27e45"
      },
      "execution_count": null,
      "outputs": [
        {
          "output_type": "execute_result",
          "data": {
            "text/plain": [
              "array(['Afghanistan', 'Albania', 'Algeria', 'Argentina', 'Armenia',\n",
              "       'Australia', 'Austria', 'Azerbaijan', 'Bangladesh', 'Belgium',\n",
              "       'Benin', 'Bolivia', 'Bosnia and Herzegovina', 'Botswana', 'Brazil',\n",
              "       'Bulgaria', 'Burkina Faso', 'Cambodia', 'Cameroon', 'Canada',\n",
              "       'Chad', 'Chile', 'Colombia', 'Comoros', 'Congo, Dem. Rep.',\n",
              "       'Congo, Rep.', 'Costa Rica', 'Croatia', 'Cyprus', 'Czechia',\n",
              "       \"Côte d'Ivoire\", 'Denmark', 'Dominican Republic', 'Ecuador',\n",
              "       'Egypt, Arab Rep.', 'El Salvador', 'Estonia', 'Eswatini',\n",
              "       'Ethiopia', 'Finland', 'France', 'Gabon', 'Gambia, The', 'Georgia',\n",
              "       'Germany', 'Ghana', 'Greece', 'Guatemala', 'Guinea', 'Honduras',\n",
              "       'Hong Kong SAR, China', 'Hungary', 'Iceland', 'India', 'Indonesia',\n",
              "       'Iran, Islamic Rep.', 'Iraq', 'Ireland', 'Israel', 'Italy',\n",
              "       'Jamaica', 'Japan', 'Jordan', 'Kazakhstan', 'Kenya', 'Korea, Rep.',\n",
              "       'Kosovo', 'Kyrgyz Republic', 'Lao PDR', 'Latvia', 'Lebanon',\n",
              "       'Lesotho', 'Liberia', 'Lithuania', 'Madagascar', 'Malawi',\n",
              "       'Malaysia', 'Mali', 'Malta', 'Mauritania', 'Mauritius', 'Mexico',\n",
              "       'Moldova', 'Mongolia', 'Morocco', 'Mozambique', 'Myanmar',\n",
              "       'Namibia', 'Nepal', 'Netherlands', 'New Zealand', 'Nicaragua',\n",
              "       'Niger', 'Nigeria', 'North Macedonia', 'Norway', 'Pakistan',\n",
              "       'Panama', 'Paraguay', 'Peru', 'Philippines', 'Poland', 'Portugal',\n",
              "       'Romania', 'Russian Federation', 'Saudi Arabia', 'Senegal',\n",
              "       'Serbia', 'Sierra Leone', 'Singapore', 'Slovak Republic',\n",
              "       'Slovenia', 'South Africa', 'South Sudan', 'Spain', 'Sri Lanka',\n",
              "       'Sweden', 'Switzerland', 'Tajikistan', 'Tanzania', 'Thailand',\n",
              "       'Togo', 'Tunisia', 'Türkiye', 'Uganda', 'Ukraine',\n",
              "       'United Arab Emirates', 'United Kingdom', 'United States',\n",
              "       'Uruguay', 'Uzbekistan', 'Venezuela, RB', 'Vietnam',\n",
              "       'West Bank and Gaza', 'Yemen, Rep.', 'Zambia', 'Zimbabwe'],\n",
              "      dtype=object)"
            ]
          },
          "metadata": {},
          "execution_count": 68
        }
      ]
    },
    {
      "cell_type": "code",
      "source": [
        "data_cleaned['economycode'].unique()"
      ],
      "metadata": {
        "colab": {
          "base_uri": "https://localhost:8080/"
        },
        "id": "rsIiJmbSB4B3",
        "outputId": "bf39c596-e67d-4b3f-dbc7-654a7ddcdd44"
      },
      "execution_count": null,
      "outputs": [
        {
          "output_type": "execute_result",
          "data": {
            "text/plain": [
              "array(['AFG', 'ALB', 'DZA', 'ARG', 'ARM', 'AUS', 'AUT', 'AZE', 'BGD',\n",
              "       'BEL', 'BEN', 'BOL', 'BIH', 'BWA', 'BRA', 'BGR', 'BFA', 'KHM',\n",
              "       'CMR', 'CAN', 'TCD', 'CHL', 'COL', 'COM', 'COD', 'COG', 'CRI',\n",
              "       'HRV', 'CYP', 'CZE', 'CIV', 'DNK', 'DOM', 'ECU', 'EGY', 'SLV',\n",
              "       'EST', 'SWZ', 'ETH', 'FIN', 'FRA', 'GAB', 'GMB', 'GEO', 'DEU',\n",
              "       'GHA', 'GRC', 'GTM', 'GIN', 'HND', 'HKG', 'HUN', 'ISL', 'IND',\n",
              "       'IDN', 'IRN', 'IRQ', 'IRL', 'ISR', 'ITA', 'JAM', 'JPN', 'JOR',\n",
              "       'KAZ', 'KEN', 'KOR', 'XKX', 'KGZ', 'LAO', 'LVA', 'LBN', 'LSO',\n",
              "       'LBR', 'LTU', 'MDG', 'MWI', 'MYS', 'MLI', 'MLT', 'MRT', 'MUS',\n",
              "       'MEX', 'MDA', 'MNG', 'MAR', 'MOZ', 'MMR', 'NAM', 'NPL', 'NLD',\n",
              "       'NZL', 'NIC', 'NER', 'NGA', 'MKD', 'NOR', 'PAK', 'PAN', 'PRY',\n",
              "       'PER', 'PHL', 'POL', 'PRT', 'ROU', 'RUS', 'SAU', 'SEN', 'SRB',\n",
              "       'SLE', 'SGP', 'SVK', 'SVN', 'ZAF', 'SSD', 'ESP', 'LKA', 'SWE',\n",
              "       'CHE', 'TJK', 'TZA', 'THA', 'TGO', 'TUN', 'TUR', 'UGA', 'UKR',\n",
              "       'ARE', 'GBR', 'USA', 'URY', 'UZB', 'VEN', 'VNM', 'PSE', 'YEM',\n",
              "       'ZMB', 'ZWE'], dtype=object)"
            ]
          },
          "metadata": {},
          "execution_count": 69
        }
      ]
    },
    {
      "cell_type": "markdown",
      "source": [
        "###Exploratory Data Analysis (EDA)\n"
      ],
      "metadata": {
        "id": "FcNQrzXXiFBN"
      }
    },
    {
      "cell_type": "markdown",
      "source": [
        "*Plotting the distribution of age*\n"
      ],
      "metadata": {
        "id": "1L0VyCrrrWHN"
      }
    },
    {
      "cell_type": "code",
      "source": [
        "plt.figure(figsize=(10, 6))\n",
        "sns.histplot(data_cleaned['age'], bins=30, kde=True)\n",
        "plt.title('Distribution of Age')\n",
        "plt.xlabel('Age')\n",
        "plt.ylabel('Frequency')\n",
        "plt.show()"
      ],
      "metadata": {
        "colab": {
          "base_uri": "https://localhost:8080/",
          "height": 564
        },
        "id": "hP1MZaEzrJeq",
        "outputId": "57b98499-e02f-4ff5-f0fc-ed7ad7de9311"
      },
      "execution_count": null,
      "outputs": [
        {
          "output_type": "display_data",
          "data": {
            "text/plain": [
              "<Figure size 1000x600 with 1 Axes>"
            ],
            "image/png": "[encoded data removed]"
          },
          "metadata": {}
        }
      ]
    },
    {
      "cell_type": "markdown",
      "source": [
        "*Distribution of income quintiles*"
      ],
      "metadata": {
        "id": "PfzBa3tOrwaN"
      }
    },
    {
      "cell_type": "code",
      "source": [
        "plt.figure(figsize=(10, 6))\n",
        "sns.countplot(x='inc_q', data=data_cleaned, palette='viridis')\n",
        "plt.title('Distribution of Income Quintiles')\n",
        "plt.xlabel('Income Quintile')\n",
        "plt.ylabel('Count')\n",
        "plt.show()"
      ],
      "metadata": {
        "colab": {
          "base_uri": "https://localhost:8080/",
          "height": 671
        },
        "id": "V50boYSYrpMI",
        "outputId": "75e041d9-ade7-4fee-c69a-9a316ba9fab0"
      },
      "execution_count": null,
      "outputs": [
        {
          "output_type": "stream",
          "name": "stderr",
          "text": [
            "<ipython-input-71-c3866ac0f85f>:2: FutureWarning: \n",
            "\n",
            "Passing `palette` without assigning `hue` is deprecated and will be removed in v0.14.0. Assign the `x` variable to `hue` and set `legend=False` for the same effect.\n",
            "\n",
            "  sns.countplot(x='inc_q', data=data_cleaned, palette='viridis')\n"
          ]
        },
        {
          "output_type": "display_data",
          "data": {
            "text/plain": [
              "<Figure size 1000x600 with 1 Axes>"
            ],
            "image/png": "[encoded data removed]"
          },
          "metadata": {}
        }
      ]
    },
    {
      "cell_type": "markdown",
      "source": [
        "*Distribution of education levels*"
      ],
      "metadata": {
        "id": "MJedEBQvr5sw"
      }
    },
    {
      "cell_type": "code",
      "source": [
        "plt.figure(figsize=(10, 6))\n",
        "sns.countplot(x='educ', data=data_cleaned, palette='magma')\n",
        "plt.title('Distribution of Education Levels')\n",
        "plt.xlabel('Education Level')\n",
        "plt.ylabel('Count')\n",
        "plt.show()"
      ],
      "metadata": {
        "colab": {
          "base_uri": "https://localhost:8080/",
          "height": 671
        },
        "id": "J3aelH-mruFz",
        "outputId": "1b8e94cf-4af5-40f7-d570-3522533f34c7"
      },
      "execution_count": null,
      "outputs": [
        {
          "output_type": "stream",
          "name": "stderr",
          "text": [
            "<ipython-input-72-9cf91c1f8989>:2: FutureWarning: \n",
            "\n",
            "Passing `palette` without assigning `hue` is deprecated and will be removed in v0.14.0. Assign the `x` variable to `hue` and set `legend=False` for the same effect.\n",
            "\n",
            "  sns.countplot(x='educ', data=data_cleaned, palette='magma')\n"
          ]
        },
        {
          "output_type": "display_data",
          "data": {
            "text/plain": [
              "<Figure size 1000x600 with 1 Axes>"
            ],
            "image/png": "[encoded data removed]"
          },
          "metadata": {}
        }
      ]
    },
    {
      "cell_type": "markdown",
      "source": [
        "*Plotting the distribution of social transfers, pensions, and remittances*"
      ],
      "metadata": {
        "id": "Bkn9PPdesRdU"
      }
    },
    {
      "cell_type": "code",
      "source": [
        "plt.figure(figsize=(15, 5))\n",
        "\n",
        "plt.subplot(1, 3, 1)\n",
        "sns.countplot(x='receive_transfers', data=data_cleaned, palette='Blues')\n",
        "plt.title('Receipt of Social Transfers')\n",
        "plt.xlabel('Received Transfers')\n",
        "plt.ylabel('Count')\n",
        "\n",
        "plt.subplot(1, 3, 2)\n",
        "sns.countplot(x='receive_pension', data=data_cleaned, palette='Greens')\n",
        "plt.title('Receipt of Pensions')\n",
        "plt.xlabel('Received Pension')\n",
        "plt.ylabel('Count')\n",
        "\n",
        "plt.subplot(1, 3, 3)\n",
        "sns.countplot(x='remittances', data=data_cleaned, palette='Oranges')\n",
        "plt.title('Receipt of Remittances')\n",
        "plt.xlabel('Received Remittances')\n",
        "plt.ylabel('Count')\n",
        "\n",
        "plt.tight_layout()\n",
        "plt.show()"
      ],
      "metadata": {
        "colab": {
          "base_uri": "https://localhost:8080/",
          "height": 706
        },
        "id": "rs8APhfMsBBU",
        "outputId": "352e67d8-e875-47b6-cb83-405f5680950a"
      },
      "execution_count": null,
      "outputs": [
        {
          "output_type": "stream",
          "name": "stderr",
          "text": [
            "<ipython-input-73-9021fd7be7bd>:4: FutureWarning: \n",
            "\n",
            "Passing `palette` without assigning `hue` is deprecated and will be removed in v0.14.0. Assign the `x` variable to `hue` and set `legend=False` for the same effect.\n",
            "\n",
            "  sns.countplot(x='receive_transfers', data=data_cleaned, palette='Blues')\n",
            "<ipython-input-73-9021fd7be7bd>:10: FutureWarning: \n",
            "\n",
            "Passing `palette` without assigning `hue` is deprecated and will be removed in v0.14.0. Assign the `x` variable to `hue` and set `legend=False` for the same effect.\n",
            "\n",
            "  sns.countplot(x='receive_pension', data=data_cleaned, palette='Greens')\n",
            "<ipython-input-73-9021fd7be7bd>:16: FutureWarning: \n",
            "\n",
            "Passing `palette` without assigning `hue` is deprecated and will be removed in v0.14.0. Assign the `x` variable to `hue` and set `legend=False` for the same effect.\n",
            "\n",
            "  sns.countplot(x='remittances', data=data_cleaned, palette='Oranges')\n"
          ]
        },
        {
          "output_type": "display_data",
          "data": {
            "text/plain": [
              "<Figure size 1500x500 with 3 Axes>"
            ],
            "image/png": "[encoded data removed]"
          },
          "metadata": {}
        }
      ]
    },
    {
      "cell_type": "code",
      "source": [
        "df_numeric = data_cleaned.select_dtypes(include=[np.number])\n",
        "df_numeric.head()\n",
        "#corr_matrix = data_cleaned.corr()"
      ],
      "metadata": {
        "colab": {
          "base_uri": "https://localhost:8080/",
          "height": 256
        },
        "id": "SwlUbZ91sOrc",
        "outputId": "3cfb3a36-d12a-40f9-fa64-68a608163d5c"
      },
      "execution_count": null,
      "outputs": [
        {
          "output_type": "execute_result",
          "data": {
            "text/plain": [
              "    pop_adult  wpid_random       wgt  female   age  educ  inc_q  emp_in  \\\n",
              "0  22647496.0    144274031  0.716416       2  43.0     2      4     1.0   \n",
              "1  22647496.0    180724554  0.497408       2  55.0     1      3     1.0   \n",
              "2  22647496.0    130686682  0.650431       1  15.0     1      2     2.0   \n",
              "3  22647496.0    142646649  0.991862       2  23.0     1      4     1.0   \n",
              "4  22647496.0    199055310  0.554940       1  46.0     1      1     2.0   \n",
              "\n",
              "   urbanicity_f2f  account  ...  receive_transfers  receive_pension  \\\n",
              "0             1.0        1  ...                  4                4   \n",
              "1             1.0        0  ...                  4                4   \n",
              "2             1.0        0  ...                  4                4   \n",
              "3             2.0        0  ...                  4                4   \n",
              "4             1.0        0  ...                  4                4   \n",
              "\n",
              "   receive_agriculture  pay_utilities  remittances  mobileowner  \\\n",
              "0                  4.0              1          5.0            1   \n",
              "1                  2.0              4          5.0            1   \n",
              "2                  4.0              4          3.0            2   \n",
              "3                  2.0              4          5.0            1   \n",
              "4                  4.0              4          5.0            2   \n",
              "\n",
              "   internetaccess  anydigpayment  merchantpay_dig  year  \n",
              "0               2              1              0.0  2021  \n",
              "1               2              0              0.0  2021  \n",
              "2               2              0              0.0  2021  \n",
              "3               2              0              0.0  2021  \n",
              "4               2              0              0.0  2021  \n",
              "\n",
              "[5 rows x 125 columns]"
            ],
            "text/html": [
              "\n",
              "  <div id=\"df-7e624648-0562-4c97-b139-f78e7ddccc6e\" class=\"colab-df-container\">\n",
              "    <div>\n",
              "<style scoped>\n",
              "    .dataframe tbody tr th:only-of-type {\n",
              "        vertical-align: middle;\n",
              "    }\n",
              "\n",
              "    .dataframe tbody tr th {\n",
              "        vertical-align: top;\n",
              "    }\n",
              "\n",
              "    .dataframe thead th {\n",
              "        text-align: right;\n",
              "    }\n",
              "</style>\n",
              "<table border=\"1\" class=\"dataframe\">\n",
              "  <thead>\n",
              "    <tr style=\"text-align: right;\">\n",
              "      <th></th>\n",
              "      <th>pop_adult</th>\n",
              "      <th>wpid_random</th>\n",
              "      <th>wgt</th>\n",
              "      <th>female</th>\n",
              "      <th>age</th>\n",
              "      <th>educ</th>\n",
              "      <th>inc_q</th>\n",
              "      <th>emp_in</th>\n",
              "      <th>urbanicity_f2f</th>\n",
              "      <th>account</th>\n",
              "      <th>...</th>\n",
              "      <th>receive_transfers</th>\n",
              "      <th>receive_pension</th>\n",
              "      <th>receive_agriculture</th>\n",
              "      <th>pay_utilities</th>\n",
              "      <th>remittances</th>\n",
              "      <th>mobileowner</th>\n",
              "      <th>internetaccess</th>\n",
              "      <th>anydigpayment</th>\n",
              "      <th>merchantpay_dig</th>\n",
              "      <th>year</th>\n",
              "    </tr>\n",
              "  </thead>\n",
              "  <tbody>\n",
              "    <tr>\n",
              "      <th>0</th>\n",
              "      <td>22647496.0</td>\n",
              "      <td>144274031</td>\n",
              "      <td>0.716416</td>\n",
              "      <td>2</td>\n",
              "      <td>43.0</td>\n",
              "      <td>2</td>\n",
              "      <td>4</td>\n",
              "      <td>1.0</td>\n",
              "      <td>1.0</td>\n",
              "      <td>1</td>\n",
              "      <td>...</td>\n",
              "      <td>4</td>\n",
              "      <td>4</td>\n",
              "      <td>4.0</td>\n",
              "      <td>1</td>\n",
              "      <td>5.0</td>\n",
              "      <td>1</td>\n",
              "      <td>2</td>\n",
              "      <td>1</td>\n",
              "      <td>0.0</td>\n",
              "      <td>2021</td>\n",
              "    </tr>\n",
              "    <tr>\n",
              "      <th>1</th>\n",
              "      <td>22647496.0</td>\n",
              "      <td>180724554</td>\n",
              "      <td>0.497408</td>\n",
              "      <td>2</td>\n",
              "      <td>55.0</td>\n",
              "      <td>1</td>\n",
              "      <td>3</td>\n",
              "      <td>1.0</td>\n",
              "      <td>1.0</td>\n",
              "      <td>0</td>\n",
              "      <td>...</td>\n",
              "      <td>4</td>\n",
              "      <td>4</td>\n",
              "      <td>2.0</td>\n",
              "      <td>4</td>\n",
              "      <td>5.0</td>\n",
              "      <td>1</td>\n",
              "      <td>2</td>\n",
              "      <td>0</td>\n",
              "      <td>0.0</td>\n",
              "      <td>2021</td>\n",
              "    </tr>\n",
              "    <tr>\n",
              "      <th>2</th>\n",
              "      <td>22647496.0</td>\n",
              "      <td>130686682</td>\n",
              "      <td>0.650431</td>\n",
              "      <td>1</td>\n",
              "      <td>15.0</td>\n",
              "      <td>1</td>\n",
              "      <td>2</td>\n",
              "      <td>2.0</td>\n",
              "      <td>1.0</td>\n",
              "      <td>0</td>\n",
              "      <td>...</td>\n",
              "      <td>4</td>\n",
              "      <td>4</td>\n",
              "      <td>4.0</td>\n",
              "      <td>4</td>\n",
              "      <td>3.0</td>\n",
              "      <td>2</td>\n",
              "      <td>2</td>\n",
              "      <td>0</td>\n",
              "      <td>0.0</td>\n",
              "      <td>2021</td>\n",
              "    </tr>\n",
              "    <tr>\n",
              "      <th>3</th>\n",
              "      <td>22647496.0</td>\n",
              "      <td>142646649</td>\n",
              "      <td>0.991862</td>\n",
              "      <td>2</td>\n",
              "      <td>23.0</td>\n",
              "      <td>1</td>\n",
              "      <td>4</td>\n",
              "      <td>1.0</td>\n",
              "      <td>2.0</td>\n",
              "      <td>0</td>\n",
              "      <td>...</td>\n",
              "      <td>4</td>\n",
              "      <td>4</td>\n",
              "      <td>2.0</td>\n",
              "      <td>4</td>\n",
              "      <td>5.0</td>\n",
              "      <td>1</td>\n",
              "      <td>2</td>\n",
              "      <td>0</td>\n",
              "      <td>0.0</td>\n",
              "      <td>2021</td>\n",
              "    </tr>\n",
              "    <tr>\n",
              "      <th>4</th>\n",
              "      <td>22647496.0</td>\n",
              "      <td>199055310</td>\n",
              "      <td>0.554940</td>\n",
              "      <td>1</td>\n",
              "      <td>46.0</td>\n",
              "      <td>1</td>\n",
              "      <td>1</td>\n",
              "      <td>2.0</td>\n",
              "      <td>1.0</td>\n",
              "      <td>0</td>\n",
              "      <td>...</td>\n",
              "      <td>4</td>\n",
              "      <td>4</td>\n",
              "      <td>4.0</td>\n",
              "      <td>4</td>\n",
              "      <td>5.0</td>\n",
              "      <td>2</td>\n",
              "      <td>2</td>\n",
              "      <td>0</td>\n",
              "      <td>0.0</td>\n",
              "      <td>2021</td>\n",
              "    </tr>\n",
              "  </tbody>\n",
              "</table>\n",
              "<p>5 rows × 125 columns</p>\n",
              "</div>\n",
              "    <div class=\"colab-df-buttons\">\n",
              "\n",
              "  <div class=\"colab-df-container\">\n",
              "    <button class=\"colab-df-convert\" onclick=\"convertToInteractive('df-7e624648-0562-4c97-b139-f78e7ddccc6e')\"\n",
              "            title=\"Convert this dataframe to an interactive table.\"\n",
              "            style=\"display:none;\">\n",
              "\n",
              "  <svg xmlns=\"http://www.w3.org/2000/svg\" height=\"24px\" viewBox=\"0 -960 960 960\">\n",
              "    <path d=\"M120-120v-720h720v720H120Zm60-500h600v-160H180v160Zm220 220h160v-160H400v160Zm0 220h160v-160H400v160ZM180-400h160v-160H180v160Zm440 0h160v-160H620v160ZM180-180h160v-160H180v160Zm440 0h160v-160H620v160Z\"/>\n",
              "  </svg>\n",
              "    </button>\n",
              "\n",
              "  <style>\n",
              "    .colab-df-container {\n",
              "      display:flex;\n",
              "      gap: 12px;\n",
              "    }\n",
              "\n",
              "    .colab-df-convert {\n",
              "      background-color: #E8F0FE;\n",
              "      border: none;\n",
              "      border-radius: 50%;\n",
              "      cursor: pointer;\n",
              "      display: none;\n",
              "      fill: #1967D2;\n",
              "      height: 32px;\n",
              "      padding: 0 0 0 0;\n",
              "      width: 32px;\n",
              "    }\n",
              "\n",
              "    .colab-df-convert:hover {\n",
              "      background-color: #E2EBFA;\n",
              "      box-shadow: 0px 1px 2px rgba(60, 64, 67, 0.3), 0px 1px 3px 1px rgba(60, 64, 67, 0.15);\n",
              "      fill: #174EA6;\n",
              "    }\n",
              "\n",
              "    .colab-df-buttons div {\n",
              "      margin-bottom: 4px;\n",
              "    }\n",
              "\n",
              "    [theme=dark] .colab-df-convert {\n",
              "      background-color: #3B4455;\n",
              "      fill: #D2E3FC;\n",
              "    }\n",
              "\n",
              "    [theme=dark] .colab-df-convert:hover {\n",
              "      background-color: #434B5C;\n",
              "      box-shadow: 0px 1px 3px 1px rgba(0, 0, 0, 0.15);\n",
              "      filter: drop-shadow(0px 1px 2px rgba(0, 0, 0, 0.3));\n",
              "      fill: #FFFFFF;\n",
              "    }\n",
              "  </style>\n",
              "\n",
              "    <script>\n",
              "      const buttonEl =\n",
              "        document.querySelector('#df-7e624648-0562-4c97-b139-f78e7ddccc6e button.colab-df-convert');\n",
              "      buttonEl.style.display =\n",
              "        google.colab.kernel.accessAllowed ? 'block' : 'none';\n",
              "\n",
              "      async function convertToInteractive(key) {\n",
              "        const element = document.querySelector('#df-7e624648-0562-4c97-b139-f78e7ddccc6e');\n",
              "        const dataTable =\n",
              "          await google.colab.kernel.invokeFunction('convertToInteractive',\n",
              "                                                    [key], {});\n",
              "        if (!dataTable) return;\n",
              "\n",
              "        const docLinkHtml = 'Like what you see? Visit the ' +\n",
              "          '<a target=\"_blank\" href=https://colab.research.google.com/notebooks/data_table.ipynb>data table notebook</a>'\n",
              "          + ' to learn more about interactive tables.';\n",
              "        element.innerHTML = '';\n",
              "        dataTable['output_type'] = 'display_data';\n",
              "        await google.colab.output.renderOutput(dataTable, element);\n",
              "        const docLink = document.createElement('div');\n",
              "        docLink.innerHTML = docLinkHtml;\n",
              "        element.appendChild(docLink);\n",
              "      }\n",
              "    </script>\n",
              "  </div>\n",
              "\n",
              "\n",
              "<div id=\"df-dbf1b128-09f7-4573-9b22-afbe183b623b\">\n",
              "  <button class=\"colab-df-quickchart\" onclick=\"quickchart('df-dbf1b128-09f7-4573-9b22-afbe183b623b')\"\n",
              "            title=\"Suggest charts\"\n",
              "            style=\"display:none;\">\n",
              "\n",
              "<svg xmlns=\"http://www.w3.org/2000/svg\" height=\"24px\"viewBox=\"0 0 24 24\"\n",
              "     width=\"24px\">\n",
              "    <g>\n",
              "        <path d=\"M19 3H5c-1.1 0-2 .9-2 2v14c0 1.1.9 2 2 2h14c1.1 0 2-.9 2-2V5c0-1.1-.9-2-2-2zM9 17H7v-7h2v7zm4 0h-2V7h2v10zm4 0h-2v-4h2v4z\"/>\n",
              "    </g>\n",
              "</svg>\n",
              "  </button>\n",
              "\n",
              "<style>\n",
              "  .colab-df-quickchart {\n",
              "      --bg-color: #E8F0FE;\n",
              "      --fill-color: #1967D2;\n",
              "      --hover-bg-color: #E2EBFA;\n",
              "      --hover-fill-color: #174EA6;\n",
              "      --disabled-fill-color: #AAA;\n",
              "      --disabled-bg-color: #DDD;\n",
              "  }\n",
              "\n",
              "  [theme=dark] .colab-df-quickchart {\n",
              "      --bg-color: #3B4455;\n",
              "      --fill-color: #D2E3FC;\n",
              "      --hover-bg-color: #434B5C;\n",
              "      --hover-fill-color: #FFFFFF;\n",
              "      --disabled-bg-color: #3B4455;\n",
              "      --disabled-fill-color: #666;\n",
              "  }\n",
              "\n",
              "  .colab-df-quickchart {\n",
              "    background-color: var(--bg-color);\n",
              "    border: none;\n",
              "    border-radius: 50%;\n",
              "    cursor: pointer;\n",
              "    display: none;\n",
              "    fill: var(--fill-color);\n",
              "    height: 32px;\n",
              "    padding: 0;\n",
              "    width: 32px;\n",
              "  }\n",
              "\n",
              "  .colab-df-quickchart:hover {\n",
              "    background-color: var(--hover-bg-color);\n",
              "    box-shadow: 0 1px 2px rgba(60, 64, 67, 0.3), 0 1px 3px 1px rgba(60, 64, 67, 0.15);\n",
              "    fill: var(--button-hover-fill-color);\n",
              "  }\n",
              "\n",
              "  .colab-df-quickchart-complete:disabled,\n",
              "  .colab-df-quickchart-complete:disabled:hover {\n",
              "    background-color: var(--disabled-bg-color);\n",
              "    fill: var(--disabled-fill-color);\n",
              "    box-shadow: none;\n",
              "  }\n",
              "\n",
              "  .colab-df-spinner {\n",
              "    border: 2px solid var(--fill-color);\n",
              "    border-color: transparent;\n",
              "    border-bottom-color: var(--fill-color);\n",
              "    animation:\n",
              "      spin 1s steps(1) infinite;\n",
              "  }\n",
              "\n",
              "  @keyframes spin {\n",
              "    0% {\n",
              "      border-color: transparent;\n",
              "      border-bottom-color: var(--fill-color);\n",
              "      border-left-color: var(--fill-color);\n",
              "    }\n",
              "    20% {\n",
              "      border-color: transparent;\n",
              "      border-left-color: var(--fill-color);\n",
              "      border-top-color: var(--fill-color);\n",
              "    }\n",
              "    30% {\n",
              "      border-color: transparent;\n",
              "      border-left-color: var(--fill-color);\n",
              "      border-top-color: var(--fill-color);\n",
              "      border-right-color: var(--fill-color);\n",
              "    }\n",
              "    40% {\n",
              "      border-color: transparent;\n",
              "      border-right-color: var(--fill-color);\n",
              "      border-top-color: var(--fill-color);\n",
              "    }\n",
              "    60% {\n",
              "      border-color: transparent;\n",
              "      border-right-color: var(--fill-color);\n",
              "    }\n",
              "    80% {\n",
              "      border-color: transparent;\n",
              "      border-right-color: var(--fill-color);\n",
              "      border-bottom-color: var(--fill-color);\n",
              "    }\n",
              "    90% {\n",
              "      border-color: transparent;\n",
              "      border-bottom-color: var(--fill-color);\n",
              "    }\n",
              "  }\n",
              "</style>\n",
              "\n",
              "  <script>\n",
              "    async function quickchart(key) {\n",
              "      const quickchartButtonEl =\n",
              "        document.querySelector('#' + key + ' button');\n",
              "      quickchartButtonEl.disabled = true;  // To prevent multiple clicks.\n",
              "      quickchartButtonEl.classList.add('colab-df-spinner');\n",
              "      try {\n",
              "        const charts = await google.colab.kernel.invokeFunction(\n",
              "            'suggestCharts', [key], {});\n",
              "      } catch (error) {\n",
              "        console.error('Error during call to suggestCharts:', error);\n",
              "      }\n",
              "      quickchartButtonEl.classList.remove('colab-df-spinner');\n",
              "      quickchartButtonEl.classList.add('colab-df-quickchart-complete');\n",
              "    }\n",
              "    (() => {\n",
              "      let quickchartButtonEl =\n",
              "        document.querySelector('#df-dbf1b128-09f7-4573-9b22-afbe183b623b button');\n",
              "      quickchartButtonEl.style.display =\n",
              "        google.colab.kernel.accessAllowed ? 'block' : 'none';\n",
              "    })();\n",
              "  </script>\n",
              "</div>\n",
              "\n",
              "    </div>\n",
              "  </div>\n"
            ],
            "application/vnd.google.colaboratory.intrinsic+json": {
              "type": "dataframe"
            }
          },
          "metadata": {},
          "execution_count": 75
        }
      ]
    },
    {
      "cell_type": "markdown",
      "source": [
        "*Impact of Receiving Social Transfers, Pensions, and Remittances on Saving Behavior*"
      ],
      "metadata": {
        "id": "C9LDXvjWtFqi"
      }
    },
    {
      "cell_type": "markdown",
      "source": [
        "Relationship Between Saving and Receiving Transfers, Pensions, and Remittances"
      ],
      "metadata": {
        "id": "qC3j2G-v2aQQ"
      }
    },
    {
      "cell_type": "code",
      "source": [
        "plt.figure(figsize=(18, 6))"
      ],
      "metadata": {
        "colab": {
          "base_uri": "https://localhost:8080/",
          "height": 52
        },
        "id": "eZ2qBElR1bJ2",
        "outputId": "bceafe60-f803-4a91-daad-c3b32f9fd20d"
      },
      "execution_count": null,
      "outputs": [
        {
          "output_type": "execute_result",
          "data": {
            "text/plain": [
              "<Figure size 1800x600 with 0 Axes>"
            ]
          },
          "metadata": {},
          "execution_count": 100
        },
        {
          "output_type": "display_data",
          "data": {
            "text/plain": [
              "<Figure size 1800x600 with 0 Axes>"
            ]
          },
          "metadata": {}
        }
      ]
    },
    {
      "cell_type": "code",
      "source": [
        "plt.subplot(1, 3, 1)\n",
        "sns.countplot(x='receive_transfers', hue='saved', data=data_cleaned, palette='Blues')\n",
        "plt.title('Social Transfers and Saving Behavior')\n",
        "plt.xlabel('Received Social Transfers')\n",
        "plt.ylabel('Count')\n",
        "plt.legend(title='Saved Money', loc='upper right')"
      ],
      "metadata": {
        "colab": {
          "base_uri": "https://localhost:8080/",
          "height": 489
        },
        "id": "fYVB1lc42yem",
        "outputId": "d7316994-0ea1-4e19-ffb1-5beeb382bd99"
      },
      "execution_count": null,
      "outputs": [
        {
          "output_type": "execute_result",
          "data": {
            "text/plain": [
              "<matplotlib.legend.Legend at 0x7d1991819540>"
            ]
          },
          "metadata": {},
          "execution_count": 101
        },
        {
          "output_type": "display_data",
          "data": {
            "text/plain": [
              "<Figure size 640x480 with 1 Axes>"
            ],
            "image/png": "[encoded data removed]"
          },
          "metadata": {}
        }
      ]
    },
    {
      "cell_type": "code",
      "source": [
        "plt.subplot(1, 3, 2)\n",
        "sns.countplot(x='receive_pension', hue='saved', data=data_cleaned, palette='Greens')\n",
        "plt.title('Pensions and Saving Behavior')\n",
        "plt.xlabel('Received Pension')\n",
        "plt.ylabel('Count')\n",
        "plt.legend(title='Saved Money', loc='upper right')"
      ],
      "metadata": {
        "colab": {
          "base_uri": "https://localhost:8080/",
          "height": 489
        },
        "id": "HmAcdvH9227O",
        "outputId": "89616b51-68fd-4749-a48d-67d17c366512"
      },
      "execution_count": null,
      "outputs": [
        {
          "output_type": "execute_result",
          "data": {
            "text/plain": [
              "<matplotlib.legend.Legend at 0x7d199089cc10>"
            ]
          },
          "metadata": {},
          "execution_count": 102
        },
        {
          "output_type": "display_data",
          "data": {
            "text/plain": [
              "<Figure size 640x480 with 1 Axes>"
            ],
            "image/png": "[encoded data removed]"
          },
          "metadata": {}
        }
      ]
    },
    {
      "cell_type": "code",
      "source": [
        "plt.subplot(1, 3, 3)\n",
        "sns.countplot(x='remittances', hue='saved', data=data_cleaned, palette='Oranges')\n",
        "plt.title('Remittances and Saving Behavior')\n",
        "plt.xlabel('Received Remittances')\n",
        "plt.ylabel('Count')\n",
        "plt.legend(title='Saved Money', loc='upper right')"
      ],
      "metadata": {
        "colab": {
          "base_uri": "https://localhost:8080/",
          "height": 489
        },
        "id": "b16L9D4j2-WQ",
        "outputId": "77b09b96-6995-4173-e4af-60d23c15ced1"
      },
      "execution_count": null,
      "outputs": [
        {
          "output_type": "execute_result",
          "data": {
            "text/plain": [
              "<matplotlib.legend.Legend at 0x7d19907cf580>"
            ]
          },
          "metadata": {},
          "execution_count": 103
        },
        {
          "output_type": "display_data",
          "data": {
            "text/plain": [
              "<Figure size 640x480 with 1 Axes>"
            ],
            "image/png": "[encoded data removed]"
          },
          "metadata": {}
        }
      ]
    },
    {
      "cell_type": "code",
      "source": [
        "plt.tight_layout()\n",
        "plt.show()"
      ],
      "metadata": {
        "colab": {
          "base_uri": "https://localhost:8080/",
          "height": 34
        },
        "id": "UyETcIia3AoN",
        "outputId": "24d90d71-5576-4183-bf3a-9640edd44f20"
      },
      "execution_count": null,
      "outputs": [
        {
          "output_type": "display_data",
          "data": {
            "text/plain": [
              "<Figure size 640x480 with 0 Axes>"
            ]
          },
          "metadata": {}
        }
      ]
    },
    {
      "cell_type": "markdown",
      "source": [
        "*Chi-square tests for independence*\n",
        "This will test whether receiving social transfers, pensions, or remittances is statistically significantly associated with saving behavior."
      ],
      "metadata": {
        "id": "6xkuRmYE3WPt"
      }
    },
    {
      "cell_type": "code",
      "source": [
        "from scipy.stats import chi2_contingency"
      ],
      "metadata": {
        "id": "RhVvyLcc3ZBa"
      },
      "execution_count": null,
      "outputs": []
    },
    {
      "cell_type": "code",
      "source": [
        "contingency_transfers = pd.crosstab(data_cleaned['receive_transfers'], data_cleaned['saved'])\n",
        "chi2, p_transfers, dof, expected = chi2_contingency(contingency_transfers)\n",
        "print(f\"Chi-Square Test for Social Transfers and Saving Behavior: p-value = {p_transfers}\")"
      ],
      "metadata": {
        "colab": {
          "base_uri": "https://localhost:8080/"
        },
        "id": "RlH5HDJM3fpx",
        "outputId": "30dae20b-04b0-4209-b1d4-388d71dcf398"
      },
      "execution_count": null,
      "outputs": [
        {
          "output_type": "stream",
          "name": "stdout",
          "text": [
            "Chi-Square Test for Social Transfers and Saving Behavior: p-value = 2.84459746517949e-309\n"
          ]
        }
      ]
    },
    {
      "cell_type": "code",
      "source": [
        "contingency_pension = pd.crosstab(data_cleaned['receive_pension'], data_cleaned['saved'])\n",
        "chi2, p_pension, dof, expected = chi2_contingency(contingency_pension)\n",
        "print(f\"Chi-Square Test for Pensions and Saving Behavior: p-value = {p_pension}\")"
      ],
      "metadata": {
        "colab": {
          "base_uri": "https://localhost:8080/"
        },
        "id": "1ZbPZtyc3fXL",
        "outputId": "489aabf1-6114-4e5c-d5c1-3f7bef251260"
      },
      "execution_count": null,
      "outputs": [
        {
          "output_type": "stream",
          "name": "stdout",
          "text": [
            "Chi-Square Test for Pensions and Saving Behavior: p-value = 1.8020187733937775e-155\n"
          ]
        }
      ]
    },
    {
      "cell_type": "code",
      "source": [
        "contingency_remittances = pd.crosstab(data_cleaned['remittances'], data_cleaned['saved'])\n",
        "chi2, p_remittances, dof, expected = chi2_contingency(contingency_remittances)\n",
        "print(f\"Chi-Square Test for Remittances and Saving Behavior: p-value = {p_remittances}\")"
      ],
      "metadata": {
        "colab": {
          "base_uri": "https://localhost:8080/"
        },
        "id": "N6QLmPs23fEg",
        "outputId": "3406560e-f52f-48ca-8195-80aefc92eda2"
      },
      "execution_count": null,
      "outputs": [
        {
          "output_type": "stream",
          "name": "stdout",
          "text": [
            "Chi-Square Test for Remittances and Saving Behavior: p-value = 0.0\n"
          ]
        }
      ]
    },
    {
      "cell_type": "markdown",
      "source": [
        "*Summary*"
      ],
      "metadata": {
        "id": "Zb9noxO8tz7n"
      }
    },
    {
      "cell_type": "code",
      "source": [],
      "metadata": {
        "id": "0E34OieW9BXq"
      },
      "execution_count": null,
      "outputs": []
    },
    {
      "cell_type": "code",
      "source": [
        "summary = \"\"\"\n",
        "From the analysis, we observe the following:\n",
        "1. **Social Transfers:** Individuals who receive social transfers show a higher probability of saving behavior compared to those who do not.\n",
        "2. **Pensions:** Receipt of pensions also positively influences the likelihood of saving.\n",
        "3. **Remittances:** Individuals receiving remittances similarly show a tendency to save more than those who do not receive remittances.\n",
        "\n",
        "The results from the logistic regression analysis suggest that receiving financial support in the form of social transfers, pensions, or remittances has a significant and positive impact on the economic behavior of individuals, specifically in terms of saving behavior.\n",
        "\"\"\"\n",
        "\n",
        "print(summary)"
      ],
      "metadata": {
        "colab": {
          "base_uri": "https://localhost:8080/"
        },
        "id": "SafwMXh-troq",
        "outputId": "8e7bd469-4e9f-4193-a20e-6f016175e01b"
      },
      "execution_count": null,
      "outputs": [
        {
          "output_type": "stream",
          "name": "stdout",
          "text": [
            "\n",
            "From the analysis, we observe the following:\n",
            "1. **Social Transfers:** Individuals who receive social transfers show a higher probability of saving behavior compared to those who do not.\n",
            "2. **Pensions:** Receipt of pensions also positively influences the likelihood of saving.\n",
            "3. **Remittances:** Individuals receiving remittances similarly show a tendency to save more than those who do not receive remittances.\n",
            "\n",
            "The results from the logistic regression analysis suggest that receiving financial support in the form of social transfers, pensions, or remittances has a significant and positive impact on the economic behavior of individuals, specifically in terms of saving behavior.\n",
            "\n"
          ]
        }
      ]
    }
  ]
}